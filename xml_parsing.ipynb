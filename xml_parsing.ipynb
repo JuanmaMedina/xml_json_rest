{
 "cells": [
  {
   "cell_type": "code",
   "execution_count": 1,
   "metadata": {},
   "outputs": [
    {
     "name": "stdout",
     "output_type": "stream",
     "text": [
      "Name: Chuck\n",
      "Attr: yes\n"
     ]
    }
   ],
   "source": [
    "## Chapter 13: Web services and XML ##\n",
    "\n",
    "# Example 1: Parsing XML (with a single tag)\n",
    "\n",
    "import xml.etree.ElementTree as ET\n",
    "\n",
    "data = '''\n",
    "<person>\n",
    "  <name>Chuck</name>\n",
    "  <phone type=\"intl\">\n",
    "    +1 734 303 4456\n",
    "  </phone>\n",
    "  <email hide=\"yes\" />\n",
    "</person>'''\n",
    "\n",
    "# This object stores the tree retrieved from the XML string\n",
    "tree = ET.fromstring(data)\n",
    "\n",
    "# Find the tag \"name\" and retrieve its text\n",
    "print('Name:', tree.find('name').text)\n",
    "\n",
    "# Find the tag \"email\" and retrieve its attribute \"hide\"\n",
    "print('Attr:', tree.find('email').get('hide'))"
   ]
  },
  {
   "cell_type": "code",
   "execution_count": 2,
   "metadata": {},
   "outputs": [
    {
     "name": "stdout",
     "output_type": "stream",
     "text": [
      "User count: 2\n",
      "Name Chuck\n",
      "Id 001\n",
      "Attribute 2\n",
      "Name Brent\n",
      "Id 009\n",
      "Attribute 7\n"
     ]
    }
   ],
   "source": [
    "# Example 2: Parsing XML (with multiple tags)\n",
    "\n",
    "import xml.etree.ElementTree as ET\n",
    "\n",
    "input = '''\n",
    "<stuff>\n",
    "  <users>\n",
    "    <user x=\"2\">\n",
    "      <id>001</id>\n",
    "      <name>Chuck</name>\n",
    "    </user>\n",
    "    <user x=\"7\">\n",
    "      <id>009</id>\n",
    "      <name>Brent</name>\n",
    "    </user>\n",
    "  </users>\n",
    "</stuff>'''\n",
    "\n",
    "stuff = ET.fromstring(input)\n",
    "\n",
    "# List with all the \"user\" tags below \"users\", each with its own child information\n",
    "lst = stuff.findall('users/user')\n",
    "print('User count:', len(lst))\n",
    "\n",
    "# Iterate over each of the tags (users) and retrieve their info\n",
    "for item in lst:\n",
    "    print('Name', item.find('name').text)\n",
    "    print('Id', item.find('id').text)\n",
    "    print('Attribute', item.get('x'))"
   ]
  },
  {
   "cell_type": "code",
   "execution_count": 19,
   "metadata": {},
   "outputs": [
    {
     "name": "stdout",
     "output_type": "stream",
     "text": [
      "Total comments: 2566\n",
      "Total comments: 2566\n"
     ]
    }
   ],
   "source": [
    "# Assignment: This program reads the XML data from a URL, parses it and extracts the comment \n",
    "# counts from it , computing the sum of all of them\n",
    "\n",
    "import urllib.request, urllib.parse, urllib.error\n",
    "import xml.etree.ElementTree as ET\n",
    "\n",
    "# Define URL\n",
    "url = 'http://python-data.dr-chuck.net/comments_217218.xml'\n",
    "\n",
    "# Establish socket connection, open URL and get its content as a string\n",
    "data = urllib.request.urlopen(url).read()\n",
    "\n",
    "# If the .read() method is not added, the object returned will be a file-like object\n",
    "# (i.e 'http.client.HTTPResponse')\n",
    "# If it is added, the object returned will be the response body of that URL as a STRING\n",
    "# From https://stackoverflow.com/questions/35863595/what-does-read-in-urlopenhttp-read-do-urllib\n",
    "\n",
    "# data = urllib.request.urlopen(url)\n",
    "# print(type(data))\n",
    "\n",
    "# PRINT STATEMENT FOR TAG IDENTIFICATION \n",
    "# print(data)\n",
    "\n",
    "# Store the tree retrieved from the XML string\n",
    "tree = ET.fromstring(data)\n",
    "\n",
    "# List with all the \"comment\" tags, each with an associated name and number of counts\n",
    "structure = tree.findall('comments/comment')\n",
    "\n",
    "total_comments = 0\n",
    "\n",
    "# Iterate over each of the tags (users) and retrieve their info\n",
    "for item in structure:\n",
    "    total_comments += int(item.find('count').text)\n",
    "\n",
    "print('Total comments:', total_comments)\n",
    "\n",
    "# Another option, iterating directly over the counts (child node \"count\")\n",
    "structure_2 = tree.findall('comments/comment/count')\n",
    "\n",
    "total_comments_2 = 0\n",
    "\n",
    "for item in structure_2:\n",
    "    # Note the .find method is no longer needed to identify the child node\n",
    "    total_comments_2 += int(item.text)\n",
    "    \n",
    "print('Total comments:', total_comments_2)"
   ]
  }
 ],
 "metadata": {
  "kernelspec": {
   "display_name": "Python 3",
   "language": "python",
   "name": "python3"
  },
  "language_info": {
   "codemirror_mode": {
    "name": "ipython",
    "version": 3
   },
   "file_extension": ".py",
   "mimetype": "text/x-python",
   "name": "python",
   "nbconvert_exporter": "python",
   "pygments_lexer": "ipython3",
   "version": "3.6.3"
  }
 },
 "nbformat": 4,
 "nbformat_minor": 2
}
