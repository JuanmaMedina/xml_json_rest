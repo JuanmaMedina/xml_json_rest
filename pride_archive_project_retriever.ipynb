{
 "cells": [
  {
   "cell_type": "code",
   "execution_count": 25,
   "metadata": {},
   "outputs": [
    {
     "name": "stdout",
     "output_type": "stream",
     "text": [
      "dict_keys(['accession', 'title', 'projectDescription', 'publicationDate', 'submissionType', 'numAssays', 'species', 'tissues', 'ptmNames', 'instrumentNames', 'projectTags', 'doi', 'submitter', 'labHeads', 'submissionDate', 'reanalysis', 'experimentTypes', 'quantificationMethods', 'keywords', 'sampleProcessingProtocol', 'dataProcessingProtocol', 'otherOmicsLink', 'numProteins', 'numPeptides', 'numSpectra', 'numUniquePeptides', 'numIdentifiedSpectra', 'references'])\n",
      "Acnum: PXD009260\n",
      "Title: Cross-linking of the microtubule binding N-terminal domain of the companion of cellulose synthase 1 protein (CC1∆C223) from Arabidopsis thaliana with tubulin\n",
      "Submission date: 2019-01-08\n"
     ]
    }
   ],
   "source": [
    "import json\n",
    "import urllib.request\n",
    "\n",
    "## This script retrieves details for a specific dataset from PRIDE Archive through its accession number ##\n",
    "\n",
    "# Define project accession\n",
    "project = 'PXD009260'\n",
    "\n",
    "# Request URL: Archive API address + project accession\n",
    "url = 'http://www.ebi.ac.uk/pride/ws/archive/project/' + project\n",
    "\n",
    "# Create request, send it and retrieve data, opening URL and getting its content as a string\n",
    "data = urllib.request.urlopen(url).read()\n",
    "\n",
    "# Dictionary object, interpreting it from JSON string\n",
    "project = json.loads(data)\n",
    "\n",
    "# Display every tag in dict\n",
    "print(project.keys())\n",
    "\n",
    "# Output some project properties\n",
    "print('Acnum:', project['accession'])\n",
    "print('Title:', project['title'])\n",
    "print('Submission date:', project['publicationDate'])"
   ]
  },
  {
   "cell_type": "code",
   "execution_count": 38,
   "metadata": {},
   "outputs": [
    {
     "name": "stdout",
     "output_type": "stream",
     "text": [
      "Acnum: PXD003499\n",
      "Title: BALF Biomarkers in lung cancer\n",
      "\n",
      "\n",
      "Acnum: PXD005693\n",
      "Title: Biomarkers discovery for Colorectal cancer\n",
      "\n",
      "\n",
      "Acnum: PXD001055\n",
      "Title: Biomarkers for cervical cancer. Verfification.\n",
      "\n",
      "\n",
      "Acnum: PRD000546\n",
      "Title: Hippocampal Biomarkers of Stress\n",
      "\n",
      "\n",
      "Acnum: PXD005709\n",
      "Title: Biomarkers discovery for Colorectal cancer liver metastasis\n",
      "\n",
      "\n",
      "Acnum: PXD001034\n",
      "Title: Biomarkers for Cervical Cancer. iTRAQ Discovery.\n",
      "\n",
      "\n",
      "Acnum: PXD003469\n",
      "Title: Functional Proteogenomics Reveals Biomarkers and Therapeutic Targets in Lymphomas\n",
      "\n",
      "\n",
      "Acnum: PXD003725\n",
      "Title: Salivary biomarkers of diabetic retinopathy, part 3\n",
      "\n",
      "\n",
      "Acnum: PXD003723\n",
      "Title: Salivary biomarkers of diabetic retinopathy, part 1\n",
      "\n",
      "\n",
      "Acnum: PXD001265\n",
      "Title: Mining potential serum biomarkers for gastric adenocarcinoma using quantitative proteomics\n",
      "\n",
      "\n"
     ]
    }
   ],
   "source": [
    "import json\n",
    "import urllib.request\n",
    "\n",
    "## This script retrieves accesion numbers for all the projects in the PRIDE Archive that fill a query ##\n",
    "\n",
    "# Additional query\n",
    "query = '?query=biomarkers'\n",
    "\n",
    "# Request URL: Archive API address + query\n",
    "url = 'http://www.ebi.ac.uk/pride/ws/archive/project/list' + query\n",
    "\n",
    "data = urllib.request.urlopen(url).read()\n",
    "\n",
    "# Dictionary with 'list' and every project as key-value pairs\n",
    "projects = json.loads(data)\n",
    "\n",
    "# Iterate over every project in the list\n",
    "for project in projects['list']:\n",
    "    \n",
    "    # Retrieve the accnums/titles of the projects that match the query\n",
    "    print('Acnum:', project['accession'])\n",
    "    print('Title:', project['title'])\n",
    "    print('\\n')"
   ]
  },
  {
   "cell_type": "code",
   "execution_count": 40,
   "metadata": {},
   "outputs": [
    {
     "name": "stdout",
     "output_type": "stream",
     "text": [
      "Acnum: PXD005780\n",
      "Title: Relating human gut metagenome and metaproteome \n",
      "\n",
      "Acnum: PXD000961\n",
      "Title: Integrated metagenomic and metaproteomic analyses of marine biofilm communities \n",
      "\n",
      "Acnum: PXD001590\n",
      "Title: Metaproteomics of Optimal vs Suboptimal Biocathode (MCL) \n",
      "\n",
      "Acnum: PXD001045\n",
      "Title: Biocathode metaproteomics \n",
      "\n",
      "Acnum: PXD005148\n",
      "Title: Lipases from Metagenomic Sources \n",
      "\n",
      "Acnum: PXD003907\n",
      "Title: Human Fecal Gut Microbiome proteomics \n",
      "\n",
      "Acnum: PXD006472\n",
      "Title: Bering Strait surface water and Chukchi Sea bottom water microbiome metaproteomics \n",
      "\n",
      "Acnum: PXD006688\n",
      "Title: Critical decisions in metaproteomics: achieving high confidence protein annotations in a sea of unknowns. \n",
      "\n",
      "Acnum: PXD008238\n",
      "Title: Analysis of Polysaccharide Utilization Loci from 53 sequenced North Sea Flavobacteriia suggests that major algal glycans exhibit limited structural diversity \n",
      "\n",
      "Acnum: PXD003125\n",
      "Title: Protein stable isotope fingerprinting (P-SIF): Mahoney Lake (Canada) 7-m biomass \n",
      "\n"
     ]
    }
   ],
   "source": [
    "import json\n",
    "import urllib.request\n",
    "\n",
    "## This script retrieves accesion numbers for all the projects in the PRIDE Archive that fill a query ##\n",
    "\n",
    "# Additional query\n",
    "query = '?query=metagenome'\n",
    "\n",
    "# Request URL: Archive API address + query\n",
    "url = 'http://www.ebi.ac.uk/pride/ws/archive/project/list' + query\n",
    "\n",
    "data = urllib.request.urlopen(url).read()\n",
    "\n",
    "# Dictionary with 'list' and every project as key-value pairs\n",
    "projects = json.loads(data)\n",
    "\n",
    "# Iterate over every project in the list\n",
    "for project in projects['list']:\n",
    "    \n",
    "    # Retrieve the accnums of the projects that match the query\n",
    "    print('Acnum:', project['accession'])\n",
    "    print('Title:', project['title'], '\\n')"
   ]
  }
 ],
 "metadata": {
  "kernelspec": {
   "display_name": "Python 3",
   "language": "python",
   "name": "python3"
  },
  "language_info": {
   "codemirror_mode": {
    "name": "ipython",
    "version": 3
   },
   "file_extension": ".py",
   "mimetype": "text/x-python",
   "name": "python",
   "nbconvert_exporter": "python",
   "pygments_lexer": "ipython3",
   "version": "3.6.3"
  }
 },
 "nbformat": 4,
 "nbformat_minor": 2
}
