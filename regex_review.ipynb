{
 "cells": [
  {
   "cell_type": "code",
   "execution_count": 18,
   "metadata": {},
   "outputs": [
    {
     "name": "stdout",
     "output_type": "stream",
     "text": [
      "85\n"
     ]
    }
   ],
   "source": [
    "### COURSERA: USING PYTHON TO ACCESS WEB DATA ###\n",
    "\n",
    "## Chapter 11: Regular expressions ##\n",
    "\n",
    "# Assignment: Compute the sum of numbers in the file #\n",
    "\n",
    "import re\n",
    "\n",
    "text = open('text_numbers.txt', 'r')\n",
    "\n",
    "numbers = 0\n",
    "\n",
    "for line in text:\n",
    "    \n",
    "    # List of matched numbers\n",
    "    x = re.findall('[0-9]+', line)\n",
    "    \n",
    "    # Add the sum of numbers found in each line to a global counter\n",
    "    numbers += len(x)\n",
    "        \n",
    "print(counter)"
   ]
  }
 ],
 "metadata": {
  "kernelspec": {
   "display_name": "Python 3",
   "language": "python",
   "name": "python3"
  },
  "language_info": {
   "codemirror_mode": {
    "name": "ipython",
    "version": 3
   },
   "file_extension": ".py",
   "mimetype": "text/x-python",
   "name": "python",
   "nbconvert_exporter": "python",
   "pygments_lexer": "ipython3",
   "version": "3.6.3"
  }
 },
 "nbformat": 4,
 "nbformat_minor": 2
}
