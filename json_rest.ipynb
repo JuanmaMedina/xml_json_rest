{
 "cells": [
  {
   "cell_type": "code",
   "execution_count": 2,
   "metadata": {},
   "outputs": [
    {
     "name": "stdout",
     "output_type": "stream",
     "text": [
      "<class 'dict'>\n",
      "Name: Chuck\n",
      "Hide: yes\n"
     ]
    }
   ],
   "source": [
    "## Chapter 13: JSON and the REST architecture ##\n",
    "\n",
    "# Example 1: Parsing JSON (as a dictionary)\n",
    "\n",
    "import json\n",
    "\n",
    "data = '''\n",
    "{\n",
    "  \"name\" : \"Chuck\",\n",
    "  \"phone\" : {\n",
    "    \"type\" : \"intl\",\n",
    "    \"number\" : \"+1 734 303 4456\"\n",
    "   },\n",
    "   \"email\" : {\n",
    "     \"hide\" : \"yes\"\n",
    "   }\n",
    "}'''\n",
    "\n",
    "# Dictionary object, loading dictionary from JSON string\n",
    "info = json.loads(data)\n",
    "print('Name:', info[\"name\"])\n",
    "print('Hide:', info[\"email\"][\"hide\"])"
   ]
  },
  {
   "cell_type": "code",
   "execution_count": 3,
   "metadata": {},
   "outputs": [
    {
     "name": "stdout",
     "output_type": "stream",
     "text": [
      "User count: 2\n",
      "Name Chuck\n",
      "Id 001\n",
      "Attribute 2\n",
      "Name Brent\n",
      "Id 009\n",
      "Attribute 7\n"
     ]
    }
   ],
   "source": [
    "# Example 2: Parsing JSON (as a list)\n",
    "\n",
    "import json\n",
    "\n",
    "data = '''\n",
    "[\n",
    "  { \"id\" : \"001\",\n",
    "    \"x\" : \"2\",\n",
    "    \"name\" : \"Chuck\"\n",
    "  } ,\n",
    "  { \"id\" : \"009\",\n",
    "    \"x\" : \"7\",\n",
    "    \"name\" : \"Brent\"\n",
    "  }\n",
    "]'''\n",
    "\n",
    "# List object, loading list from JSON string\n",
    "info = json.loads(data)\n",
    "print('User count:', len(info))\n",
    "\n",
    "for item in info:\n",
    "    print('Name', item['name'])\n",
    "    print('Id', item['id'])\n",
    "    print('Attribute', item['x'])"
   ]
  },
  {
   "cell_type": "code",
   "execution_count": 17,
   "metadata": {},
   "outputs": [
    {
     "name": "stdout",
     "output_type": "stream",
     "text": [
      "Total comments: 2754\n"
     ]
    }
   ],
   "source": [
    "# Assignment: This program reads the JSON data from a URL, parses it and extract the comment\n",
    "# counts from it, computing the sum of all of them\n",
    "\n",
    "import urllib.request, urllib.parse, urllib.error\n",
    "import json\n",
    "\n",
    "url = 'http://python-data.dr-chuck.net/comments_217222.json'\n",
    "\n",
    "# Open URL and get its content as a string\n",
    "data = urllib.request.urlopen(url).read()\n",
    "\n",
    "# Dictionary object, loading dictionary from JSON string\n",
    "data_parsed = json.loads(data)\n",
    "\n",
    "# Preliminary structure of the dictionary\n",
    "# print(data_parsed)\n",
    "\n",
    "# Dictionary with names-counts as key-value pairs, removing header\n",
    "narrow_dict = data_parsed['comments']\n",
    "\n",
    "counts = 0\n",
    "\n",
    "for item in narrow_dict:\n",
    "    counts += int(item['count'])\n",
    "\n",
    "print('Total comments:', counts)"
   ]
  }
 ],
 "metadata": {
  "kernelspec": {
   "display_name": "Python 3",
   "language": "python",
   "name": "python3"
  },
  "language_info": {
   "codemirror_mode": {
    "name": "ipython",
    "version": 3
   },
   "file_extension": ".py",
   "mimetype": "text/x-python",
   "name": "python",
   "nbconvert_exporter": "python",
   "pygments_lexer": "ipython3",
   "version": "3.6.3"
  }
 },
 "nbformat": 4,
 "nbformat_minor": 2
}
